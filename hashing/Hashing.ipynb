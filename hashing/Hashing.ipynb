{
 "cells": [
  {
   "cell_type": "code",
   "execution_count": 10,
   "id": "c21533e0",
   "metadata": {},
   "outputs": [],
   "source": [
    "import xxhash"
   ]
  },
  {
   "cell_type": "markdown",
   "id": "b6c5a16b",
   "metadata": {},
   "source": [
    "Set the modulus we will use for our hash function (the size of the table)"
   ]
  },
  {
   "cell_type": "code",
   "execution_count": 17,
   "id": "3bf56f69",
   "metadata": {},
   "outputs": [],
   "source": [
    "n = 13"
   ]
  },
  {
   "cell_type": "code",
   "execution_count": 18,
   "id": "8130a6a2",
   "metadata": {},
   "outputs": [],
   "source": [
    "keys = [\"welcome\", \"to\", \"the\", \"jungle\"]"
   ]
  },
  {
   "cell_type": "code",
   "execution_count": 19,
   "id": "18393b55",
   "metadata": {},
   "outputs": [],
   "source": [
    "positions = [ xxhash.xxh3_64_intdigest(k) % n for k in keys ]"
   ]
  },
  {
   "cell_type": "code",
   "execution_count": 20,
   "id": "8a1bf18e",
   "metadata": {},
   "outputs": [
    {
     "data": {
      "text/plain": [
       "[7, 9, 10, 0]"
      ]
     },
     "execution_count": 20,
     "metadata": {},
     "output_type": "execute_result"
    }
   ],
   "source": [
    "positions"
   ]
  },
  {
   "cell_type": "code",
   "execution_count": 21,
   "id": "9cf9f784",
   "metadata": {},
   "outputs": [],
   "source": [
    "keys = [\"welcome\", \"to\", \"the\", \"jungle\", \"we\", \"got\", \"fun\", \"and\", \"games\"]"
   ]
  },
  {
   "cell_type": "code",
   "execution_count": 22,
   "id": "76947e55",
   "metadata": {},
   "outputs": [],
   "source": [
    "positions = [ xxhash.xxh3_64_intdigest(k) % n for k in keys ]"
   ]
  },
  {
   "cell_type": "code",
   "execution_count": 23,
   "id": "b4ae9099",
   "metadata": {},
   "outputs": [
    {
     "data": {
      "text/plain": [
       "[7, 9, 10, 0, 2, 7, 7, 0, 11]"
      ]
     },
     "execution_count": 23,
     "metadata": {},
     "output_type": "execute_result"
    }
   ],
   "source": [
    "positions"
   ]
  },
  {
   "cell_type": "markdown",
   "id": "84c90528",
   "metadata": {},
   "source": [
    "Let's try with the full lyrics"
   ]
  },
  {
   "cell_type": "code",
   "execution_count": 24,
   "id": "599874ce",
   "metadata": {},
   "outputs": [],
   "source": [
    "lyrics = \"\"\"\n",
    "Welcome to the jungle\n",
    "We got fun and games\n",
    "We got everything you want\n",
    "Honey, we know the names\n",
    "We are the people that can find\n",
    "Whatever you may need\n",
    "If you got no money, honey\n",
    "We got your disease\n",
    "In the jungle, welcome to the jungle\n",
    "Watch it bring you to your knees, knees\n",
    "Ooh-ah, I wanna watch you bleed\n",
    "Welcome to the jungle\n",
    "We take it day by day\n",
    "If you want it, you're gonna bleed\n",
    "But that's the price you pay\n",
    "You're a very sexy girl\n",
    "Who's very hard to please\n",
    "You can taste the bright lights\n",
    "But you won't get them for free\n",
    "In the jungle, welcome to the jungle\n",
    "Feel my, my, my, my serpentine\n",
    "I, I wanna hear you scream\n",
    "Welcome to the jungle\n",
    "It's worse here everyday\n",
    "You learn to live like an animal\n",
    "In the jungle where we play\n",
    "You got a hunger for what you see\n",
    "You'll take it eventually\n",
    "You can have anything you want\n",
    "But you better not take it from me\n",
    "In the jungle, welcome to the jungle\n",
    "Watch it bring you to your knees, knees\n",
    "Ooh-ah, I'm gonna watch you bleed\n",
    "And when you're high, you never\n",
    "Ever want to come down\n",
    "So down, so down, so down, yeah\n",
    "Aw\n",
    "You know where you are?\n",
    "You're in the jungle, baby\n",
    "You're gonna die\n",
    "In the jungle, welcome to the jungle\n",
    "Watch it bring you to your knees, knees\n",
    "In the jungle, welcome to the jungle\n",
    "Feel my, my, my, my serpentine\n",
    "In the jungle, welcome to the jungle\n",
    "Watch it bring you to your knees, knees\n",
    "In the jungle, welcome to the jungle\n",
    "Watch it bring to your...\n",
    "It's gonna bring you down, huh\n",
    "\"\"\""
   ]
  },
  {
   "cell_type": "markdown",
   "id": "cd6a55cc",
   "metadata": {},
   "source": [
    "Get the set of all words in the lyrics"
   ]
  },
  {
   "cell_type": "code",
   "execution_count": 39,
   "id": "09bd66dd",
   "metadata": {},
   "outputs": [],
   "source": [
    "words = [ x.strip('\\\"') for l in lyrics.split('\\n') for x in l.rstrip().split(' ')]"
   ]
  },
  {
   "cell_type": "code",
   "execution_count": 40,
   "id": "925e0d52",
   "metadata": {},
   "outputs": [
    {
     "data": {
      "text/plain": [
       "119"
      ]
     },
     "execution_count": 40,
     "metadata": {},
     "output_type": "execute_result"
    }
   ],
   "source": [
    "len(set(words))"
   ]
  },
  {
   "cell_type": "markdown",
   "id": "c25f7504",
   "metadata": {},
   "source": [
    "We want a hash table large enough to accomodate all the words, we choose a prime > 119"
   ]
  },
  {
   "cell_type": "code",
   "execution_count": 50,
   "id": "fe511cd1",
   "metadata": {},
   "outputs": [],
   "source": [
    "n = 197"
   ]
  },
  {
   "cell_type": "code",
   "execution_count": 51,
   "id": "53508b56",
   "metadata": {},
   "outputs": [],
   "source": [
    "hashes = [xxhash.xxh3_64_intdigest(w) for w in words]"
   ]
  },
  {
   "cell_type": "code",
   "execution_count": 52,
   "id": "97629c1f",
   "metadata": {},
   "outputs": [
    {
     "data": {
      "text/plain": [
       "119"
      ]
     },
     "execution_count": 52,
     "metadata": {},
     "output_type": "execute_result"
    }
   ],
   "source": [
    "len(set(hashes))"
   ]
  },
  {
   "cell_type": "code",
   "execution_count": 53,
   "id": "e21e7992",
   "metadata": {},
   "outputs": [],
   "source": [
    "hashes_modn = [h % n for h in hashes]"
   ]
  },
  {
   "cell_type": "code",
   "execution_count": 55,
   "id": "22c50a61",
   "metadata": {},
   "outputs": [
    {
     "data": {
      "text/plain": [
       "94"
      ]
     },
     "execution_count": 55,
     "metadata": {},
     "output_type": "execute_result"
    }
   ],
   "source": [
    "len(set(hashes_modn))"
   ]
  },
  {
   "cell_type": "markdown",
   "id": "3f1497a7",
   "metadata": {},
   "source": [
    "So we can already see that there are no collision in 64-bit hash space, but some collisions when we take the hash % n."
   ]
  },
  {
   "cell_type": "markdown",
   "id": "d5c0f333",
   "metadata": {},
   "source": [
    "### Let's try making a simple separate chaining hash table"
   ]
  },
  {
   "cell_type": "code",
   "execution_count": 88,
   "id": "736d5ba2",
   "metadata": {},
   "outputs": [],
   "source": [
    "class SimpleHash:\n",
    "    def __init__(self, size):\n",
    "        self.size = size\n",
    "        self.arr = [ [] for _ in range(self.size)]\n",
    "        \n",
    "    def add(self, k):\n",
    "        i = xxhash.xxh3_64_intdigest(k) % self.size\n",
    "        self.arr[i].append(k)\n",
    "    \n",
    "    def exists(self, k):\n",
    "        i = xxhash.xxh3_64_intdigest(k) % self.size\n",
    "        try:\n",
    "            idx = self.arr[i].index(k)\n",
    "            return True\n",
    "        except ValueError as e:\n",
    "            return False\n",
    "\n",
    "    def __str__(self):\n",
    "        return f\"size: {self.size}\\narr: {self.arr}\""
   ]
  },
  {
   "cell_type": "code",
   "execution_count": 103,
   "id": "f367f08a",
   "metadata": {},
   "outputs": [],
   "source": [
    "shash = SimpleHash(13)"
   ]
  },
  {
   "cell_type": "code",
   "execution_count": 115,
   "id": "0cfb720a",
   "metadata": {},
   "outputs": [],
   "source": [
    "keys = [\"welcome\", \"to\", \"the\", \"jungle\"]"
   ]
  },
  {
   "cell_type": "code",
   "execution_count": 116,
   "id": "69f17f74",
   "metadata": {},
   "outputs": [],
   "source": [
    "for k in keys:\n",
    "    shash.add(k)"
   ]
  },
  {
   "cell_type": "code",
   "execution_count": 117,
   "id": "b216bae9",
   "metadata": {},
   "outputs": [
    {
     "name": "stdout",
     "output_type": "stream",
     "text": [
      "size: 13\n",
      "arr: [['jungle', 'jungle'], [], [], [], [], [], [], ['welcome', 'welcome'], [], ['to', 'to'], ['the', 'the'], [], []]\n"
     ]
    }
   ],
   "source": [
    "print(shash)"
   ]
  },
  {
   "cell_type": "code",
   "execution_count": 118,
   "id": "326b7f31",
   "metadata": {},
   "outputs": [
    {
     "name": "stdout",
     "output_type": "stream",
     "text": [
      "welcome exists? True\n",
      "to exists? True\n",
      "the exists? True\n",
      "jungle exists? True\n"
     ]
    }
   ],
   "source": [
    "for k in keys:\n",
    "    print(f\"{k} exists? {shash.exists(k)}\")"
   ]
  },
  {
   "cell_type": "code",
   "execution_count": 119,
   "id": "910685f4",
   "metadata": {},
   "outputs": [
    {
     "data": {
      "text/plain": [
       "False"
      ]
     },
     "execution_count": 119,
     "metadata": {},
     "output_type": "execute_result"
    }
   ],
   "source": [
    "shash.exists(\"w00t\")"
   ]
  },
  {
   "cell_type": "code",
   "execution_count": 120,
   "id": "ab7de8ec",
   "metadata": {},
   "outputs": [],
   "source": [
    "keys = [\"welcome\", \"to\", \"the\", \"jungle\", \"we\", \"got\", \"fun\", \"and\", \"games\"]"
   ]
  },
  {
   "cell_type": "code",
   "execution_count": 121,
   "id": "e17b845f",
   "metadata": {},
   "outputs": [],
   "source": [
    "shash_with_coll = SimpleHash(13)"
   ]
  },
  {
   "cell_type": "code",
   "execution_count": 122,
   "id": "2762eef3",
   "metadata": {},
   "outputs": [],
   "source": [
    "for k in keys:\n",
    "    shash_with_coll.add(k)"
   ]
  },
  {
   "cell_type": "code",
   "execution_count": 123,
   "id": "17265743",
   "metadata": {},
   "outputs": [
    {
     "name": "stdout",
     "output_type": "stream",
     "text": [
      "size: 13\n",
      "arr: [['jungle', 'and'], [], ['we'], [], [], [], [], ['welcome', 'got', 'fun'], [], ['to'], ['the'], ['games'], []]\n"
     ]
    }
   ],
   "source": [
    "print(shash_with_coll)"
   ]
  },
  {
   "cell_type": "code",
   "execution_count": 124,
   "id": "75fb32d4",
   "metadata": {},
   "outputs": [
    {
     "name": "stdout",
     "output_type": "stream",
     "text": [
      "welcome exists? True\n",
      "to exists? True\n",
      "the exists? True\n",
      "jungle exists? True\n",
      "we exists? True\n",
      "got exists? True\n",
      "fun exists? True\n",
      "and exists? True\n",
      "games exists? True\n"
     ]
    }
   ],
   "source": [
    "for k in keys:\n",
    "    print(f\"{k} exists? {shash_with_coll.exists(k)}\")"
   ]
  },
  {
   "cell_type": "code",
   "execution_count": 125,
   "id": "acbd9d17",
   "metadata": {},
   "outputs": [
    {
     "data": {
      "text/plain": [
       "False"
      ]
     },
     "execution_count": 125,
     "metadata": {},
     "output_type": "execute_result"
    }
   ],
   "source": [
    "shash_with_coll.exists(\"w00t\")"
   ]
  },
  {
   "cell_type": "markdown",
   "id": "0362571d",
   "metadata": {},
   "source": [
    "### Of course, in Python, we can just use the built-in `dict`; it's a hash table!"
   ]
  },
  {
   "cell_type": "code",
   "execution_count": 126,
   "id": "772d7181",
   "metadata": {},
   "outputs": [],
   "source": [
    "hash_table = {}"
   ]
  },
  {
   "cell_type": "code",
   "execution_count": 128,
   "id": "f9dcfa14",
   "metadata": {},
   "outputs": [],
   "source": [
    "for k in keys:\n",
    "    hash_table[k] = True"
   ]
  },
  {
   "cell_type": "code",
   "execution_count": 129,
   "id": "aa606f81",
   "metadata": {},
   "outputs": [
    {
     "name": "stdout",
     "output_type": "stream",
     "text": [
      "{'welcome': True, 'to': True, 'the': True, 'jungle': True, 'we': True, 'got': True, 'fun': True, 'and': True, 'games': True}\n"
     ]
    }
   ],
   "source": [
    "print(hash_table)"
   ]
  },
  {
   "cell_type": "code",
   "execution_count": 130,
   "id": "c19b6047",
   "metadata": {},
   "outputs": [
    {
     "name": "stdout",
     "output_type": "stream",
     "text": [
      "welcome exists? True\n",
      "to exists? True\n",
      "the exists? True\n",
      "jungle exists? True\n",
      "we exists? True\n",
      "got exists? True\n",
      "fun exists? True\n",
      "and exists? True\n",
      "games exists? True\n"
     ]
    }
   ],
   "source": [
    "for k in keys:\n",
    "    print(f\"{k} exists? {k in hash_table}\")"
   ]
  },
  {
   "cell_type": "code",
   "execution_count": 131,
   "id": "e81409e2",
   "metadata": {},
   "outputs": [
    {
     "data": {
      "text/plain": [
       "False"
      ]
     },
     "execution_count": 131,
     "metadata": {},
     "output_type": "execute_result"
    }
   ],
   "source": [
    "\"w00t\" in hash_table"
   ]
  },
  {
   "cell_type": "markdown",
   "id": "a374013a",
   "metadata": {},
   "source": [
    "### Finally we can, of course, associate keys with *values*"
   ]
  },
  {
   "cell_type": "code",
   "execution_count": null,
   "id": "320e47f7",
   "metadata": {},
   "outputs": [],
   "source": [
    "hash_table = {}\n",
    "for i,k in enumeratekeys:\n",
    "    hash_table[k] = True"
   ]
  }
 ],
 "metadata": {
  "kernelspec": {
   "display_name": "Python 3 (ipykernel)",
   "language": "python",
   "name": "python3"
  },
  "language_info": {
   "codemirror_mode": {
    "name": "ipython",
    "version": 3
   },
   "file_extension": ".py",
   "mimetype": "text/x-python",
   "name": "python",
   "nbconvert_exporter": "python",
   "pygments_lexer": "ipython3",
   "version": "3.8.11"
  }
 },
 "nbformat": 4,
 "nbformat_minor": 5
}
