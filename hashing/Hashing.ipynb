{
 "cells": [
  {
   "cell_type": "code",
   "execution_count": 16,
   "id": "c21533e0",
   "metadata": {},
   "outputs": [],
   "source": [
    "import xxhash"
   ]
  },
  {
   "cell_type": "code",
   "execution_count": 17,
   "id": "3bf56f69",
   "metadata": {},
   "outputs": [],
   "source": [
    "n = 13"
   ]
  },
  {
   "cell_type": "code",
   "execution_count": 18,
   "id": "8130a6a2",
   "metadata": {},
   "outputs": [],
   "source": [
    "keys = [\"welcome\", \"to\", \"the\", \"jungle\"]"
   ]
  },
  {
   "cell_type": "code",
   "execution_count": 19,
   "id": "18393b55",
   "metadata": {},
   "outputs": [],
   "source": [
    "positions = [ xxhash.xxh3_64_intdigest(k) % n for k in keys ]"
   ]
  },
  {
   "cell_type": "code",
   "execution_count": 20,
   "id": "8a1bf18e",
   "metadata": {},
   "outputs": [
    {
     "data": {
      "text/plain": [
       "[7, 9, 10, 0]"
      ]
     },
     "execution_count": 20,
     "metadata": {},
     "output_type": "execute_result"
    }
   ],
   "source": [
    "positions"
   ]
  },
  {
   "cell_type": "code",
   "execution_count": 21,
   "id": "9cf9f784",
   "metadata": {},
   "outputs": [],
   "source": [
    "keys = [\"welcome\", \"to\", \"the\", \"jungle\", \"we\", \"got\", \"fun\", \"and\", \"games\"]"
   ]
  },
  {
   "cell_type": "code",
   "execution_count": 22,
   "id": "76947e55",
   "metadata": {},
   "outputs": [],
   "source": [
    "positions = [ xxhash.xxh3_64_intdigest(k) % n for k in keys ]"
   ]
  },
  {
   "cell_type": "code",
   "execution_count": 23,
   "id": "b4ae9099",
   "metadata": {},
   "outputs": [
    {
     "data": {
      "text/plain": [
       "[7, 9, 10, 0, 2, 7, 7, 0, 11]"
      ]
     },
     "execution_count": 23,
     "metadata": {},
     "output_type": "execute_result"
    }
   ],
   "source": [
    "positions"
   ]
  },
  {
   "cell_type": "code",
   "execution_count": 24,
   "id": "599874ce",
   "metadata": {},
   "outputs": [],
   "source": [
    "lyrics = \"\"\"\n",
    "Welcome to the jungle\n",
    "We got fun and games\n",
    "We got everything you want\n",
    "Honey, we know the names\n",
    "We are the people that can find\n",
    "Whatever you may need\n",
    "If you got no money, honey\n",
    "We got your disease\n",
    "In the jungle, welcome to the jungle\n",
    "Watch it bring you to your knees, knees\n",
    "Ooh-ah, I wanna watch you bleed\n",
    "Welcome to the jungle\n",
    "We take it day by day\n",
    "If you want it, you're gonna bleed\n",
    "But that's the price you pay\n",
    "You're a very sexy girl\n",
    "Who's very hard to please\n",
    "You can taste the bright lights\n",
    "But you won't get them for free\n",
    "In the jungle, welcome to the jungle\n",
    "Feel my, my, my, my serpentine\n",
    "I, I wanna hear you scream\n",
    "Welcome to the jungle\n",
    "It's worse here everyday\n",
    "You learn to live like an animal\n",
    "In the jungle where we play\n",
    "You got a hunger for what you see\n",
    "You'll take it eventually\n",
    "You can have anything you want\n",
    "But you better not take it from me\n",
    "In the jungle, welcome to the jungle\n",
    "Watch it bring you to your knees, knees\n",
    "Ooh-ah, I'm gonna watch you bleed\n",
    "And when you're high, you never\n",
    "Ever want to come down\n",
    "So down, so down, so down, yeah\n",
    "Aw\n",
    "You know where you are?\n",
    "You're in the jungle, baby\n",
    "You're gonna die\n",
    "In the jungle, welcome to the jungle\n",
    "Watch it bring you to your knees, knees\n",
    "In the jungle, welcome to the jungle\n",
    "Feel my, my, my, my serpentine\n",
    "In the jungle, welcome to the jungle\n",
    "Watch it bring you to your knees, knees\n",
    "In the jungle, welcome to the jungle\n",
    "Watch it bring to your...\n",
    "It's gonna bring you down, huh\n",
    "\"\"\""
   ]
  },
  {
   "cell_type": "markdown",
   "id": "cd6a55cc",
   "metadata": {},
   "source": [
    "Get the set of all words in the lyrics"
   ]
  },
  {
   "cell_type": "code",
   "execution_count": 39,
   "id": "09bd66dd",
   "metadata": {},
   "outputs": [],
   "source": [
    "words = [ x.strip('\\\"') for l in lyrics.split('\\n') for x in l.rstrip().split(' ')]"
   ]
  },
  {
   "cell_type": "code",
   "execution_count": 40,
   "id": "925e0d52",
   "metadata": {},
   "outputs": [
    {
     "data": {
      "text/plain": [
       "119"
      ]
     },
     "execution_count": 40,
     "metadata": {},
     "output_type": "execute_result"
    }
   ],
   "source": [
    "len(set(words))"
   ]
  },
  {
   "cell_type": "markdown",
   "id": "c25f7504",
   "metadata": {},
   "source": [
    "We want a hash table large enough to accomodate all the words, we choose a prime > 119"
   ]
  },
  {
   "cell_type": "code",
   "execution_count": 50,
   "id": "fe511cd1",
   "metadata": {},
   "outputs": [],
   "source": [
    "n = 197"
   ]
  },
  {
   "cell_type": "code",
   "execution_count": 51,
   "id": "53508b56",
   "metadata": {},
   "outputs": [],
   "source": [
    "hashes = [xxhash.xxh3_64_intdigest(w) for w in words]"
   ]
  },
  {
   "cell_type": "code",
   "execution_count": 52,
   "id": "97629c1f",
   "metadata": {},
   "outputs": [
    {
     "data": {
      "text/plain": [
       "119"
      ]
     },
     "execution_count": 52,
     "metadata": {},
     "output_type": "execute_result"
    }
   ],
   "source": [
    "len(set(hashes))"
   ]
  },
  {
   "cell_type": "code",
   "execution_count": 53,
   "id": "e21e7992",
   "metadata": {},
   "outputs": [],
   "source": [
    "hashes_modn = [h % n for h in hashes]"
   ]
  },
  {
   "cell_type": "code",
   "execution_count": 55,
   "id": "22c50a61",
   "metadata": {},
   "outputs": [
    {
     "data": {
      "text/plain": [
       "94"
      ]
     },
     "execution_count": 55,
     "metadata": {},
     "output_type": "execute_result"
    }
   ],
   "source": [
    "len(set(hashes_modn))"
   ]
  },
  {
   "cell_type": "markdown",
   "id": "3f1497a7",
   "metadata": {},
   "source": [
    "So we can already see that there are no collision in 64-bit hash space, but some collisions when we take the hash % n."
   ]
  },
  {
   "cell_type": "code",
   "execution_count": null,
   "id": "736d5ba2",
   "metadata": {},
   "outputs": [],
   "source": []
  }
 ],
 "metadata": {
  "kernelspec": {
   "display_name": "Python 3 (ipykernel)",
   "language": "python",
   "name": "python3"
  },
  "language_info": {
   "codemirror_mode": {
    "name": "ipython",
    "version": 3
   },
   "file_extension": ".py",
   "mimetype": "text/x-python",
   "name": "python",
   "nbconvert_exporter": "python",
   "pygments_lexer": "ipython3",
   "version": "3.8.11"
  }
 },
 "nbformat": 4,
 "nbformat_minor": 5
}
